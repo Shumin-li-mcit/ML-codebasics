{
 "cells": [
  {
   "cell_type": "code",
   "execution_count": 1,
   "id": "c721c39c",
   "metadata": {},
   "outputs": [],
   "source": [
    "import numpy as np\n",
    "import pandas as pd\n",
    "from sklearn.datasets import load_iris\n",
    "iris = load_iris()"
   ]
  },
  {
   "cell_type": "code",
   "execution_count": 21,
   "id": "37b2523b",
   "metadata": {},
   "outputs": [],
   "source": [
    "from sklearn.linear_model import LogisticRegression\n",
    "from sklearn.ensemble import RandomForestClassifier\n",
    "from sklearn.svm import SVC\n",
    "from sklearn.tree import DecisionTreeClassifier"
   ]
  },
  {
   "cell_type": "code",
   "execution_count": 2,
   "id": "f7dc471c",
   "metadata": {},
   "outputs": [
    {
     "data": {
      "text/plain": [
       "['DESCR',\n",
       " 'data',\n",
       " 'feature_names',\n",
       " 'filename',\n",
       " 'frame',\n",
       " 'target',\n",
       " 'target_names']"
      ]
     },
     "execution_count": 2,
     "metadata": {},
     "output_type": "execute_result"
    }
   ],
   "source": [
    "dir(iris)"
   ]
  },
  {
   "cell_type": "code",
   "execution_count": 15,
   "id": "972c1817",
   "metadata": {},
   "outputs": [
    {
     "data": {
      "text/plain": [
       "(150, 4)"
      ]
     },
     "execution_count": 15,
     "metadata": {},
     "output_type": "execute_result"
    }
   ],
   "source": [
    "iris.data.shape"
   ]
  },
  {
   "cell_type": "code",
   "execution_count": 17,
   "id": "c4766fa2",
   "metadata": {},
   "outputs": [
    {
     "data": {
      "text/plain": [
       "(150,)"
      ]
     },
     "execution_count": 17,
     "metadata": {},
     "output_type": "execute_result"
    }
   ],
   "source": [
    "iris.target.shape"
   ]
  },
  {
   "cell_type": "code",
   "execution_count": 13,
   "id": "60d0411e",
   "metadata": {},
   "outputs": [],
   "source": [
    "def get_score(model, X_train, X_test, y_train, y_test):\n",
    "    model.fit(X_train, y_train)\n",
    "    return model.score(X_test, y_test)"
   ]
  },
  {
   "cell_type": "code",
   "execution_count": 22,
   "id": "bb8a04c6",
   "metadata": {},
   "outputs": [
    {
     "name": "stderr",
     "output_type": "stream",
     "text": [
      "/Users/shuminli/opt/anaconda3/lib/python3.8/site-packages/sklearn/linear_model/_logistic.py:763: ConvergenceWarning: lbfgs failed to converge (status=1):\n",
      "STOP: TOTAL NO. of ITERATIONS REACHED LIMIT.\n",
      "\n",
      "Increase the number of iterations (max_iter) or scale the data as shown in:\n",
      "    https://scikit-learn.org/stable/modules/preprocessing.html\n",
      "Please also refer to the documentation for alternative solver options:\n",
      "    https://scikit-learn.org/stable/modules/linear_model.html#logistic-regression\n",
      "  n_iter_i = _check_optimize_result(\n"
     ]
    }
   ],
   "source": [
    "from sklearn.model_selection import train_test_split\n",
    "from sklearn.model_selection import StratifiedKFold \n",
    "# or KFold, the advantage of using StratifiedKFold is that it makes sure every \\\n",
    "# fold has a unified distribution of each class\n",
    "\n",
    "folds = StratifiedKFold(n_splits = 3)\n",
    "scores_reg = []\n",
    "scores_rf = []\n",
    "scores_svc = []\n",
    "scores_dt = []\n",
    "\n",
    "for train_index, test_index in folds.split(iris.data, iris.target):\n",
    "    X_train, X_test, y_train, y_test = iris.data[train_index], iris.data[test_index], \\\n",
    "                                        iris.target[train_index], iris.target[test_index]\n",
    "    scores_reg.append(get_score(LogisticRegression(), X_train, X_test, y_train, y_test)),\n",
    "    scores_rf.append(get_score(RandomForestClassifier(), X_train, X_test, y_train, y_test)),\n",
    "    scores_svc.append(get_score(SVC(), X_train, X_test, y_train, y_test)),\n",
    "    scores_dt.append(get_score(DecisionTreeClassifier(), X_train, X_test, y_train, y_test))"
   ]
  },
  {
   "cell_type": "code",
   "execution_count": 23,
   "id": "1f0075b1",
   "metadata": {},
   "outputs": [
    {
     "name": "stdout",
     "output_type": "stream",
     "text": [
      "[0.98, 0.96, 0.98] [0.98, 0.94, 0.96] [0.96, 0.98, 0.94] [0.98, 0.92, 1.0]\n"
     ]
    }
   ],
   "source": [
    "print(scores_reg, scores_rf, scores_svc, scores_dt)"
   ]
  },
  {
   "cell_type": "markdown",
   "id": "d401c1db",
   "metadata": {},
   "source": [
    "### cross_val_score function to determine best model "
   ]
  },
  {
   "cell_type": "code",
   "execution_count": 24,
   "id": "cdc07c7a",
   "metadata": {},
   "outputs": [
    {
     "name": "stderr",
     "output_type": "stream",
     "text": [
      "/Users/shuminli/opt/anaconda3/lib/python3.8/site-packages/sklearn/linear_model/_logistic.py:763: ConvergenceWarning: lbfgs failed to converge (status=1):\n",
      "STOP: TOTAL NO. of ITERATIONS REACHED LIMIT.\n",
      "\n",
      "Increase the number of iterations (max_iter) or scale the data as shown in:\n",
      "    https://scikit-learn.org/stable/modules/preprocessing.html\n",
      "Please also refer to the documentation for alternative solver options:\n",
      "    https://scikit-learn.org/stable/modules/linear_model.html#logistic-regression\n",
      "  n_iter_i = _check_optimize_result(\n"
     ]
    }
   ],
   "source": [
    "from sklearn.model_selection import cross_val_score\n",
    "# cross_val_score uses stratifield kfold by default\n",
    "\n",
    "s_reg = cross_val_score(LogisticRegression(), iris.data, iris.target, cv = 3) # cv to specify the number of folds in a (Stratified)KFold\n",
    "s_rf = cross_val_score(RandomForestClassifier(), iris.data, iris.target, cv = 3)\n",
    "s_svc = cross_val_score(SVC(), iris.data, iris.target, cv = 3)\n",
    "s_dt = cross_val_score(DecisionTreeClassifier(), iris.data, iris.target, cv = 3)\n"
   ]
  },
  {
   "cell_type": "code",
   "execution_count": 26,
   "id": "08ca098b",
   "metadata": {},
   "outputs": [
    {
     "name": "stdout",
     "output_type": "stream",
     "text": [
      "0.9733333333333333 0.96 0.96 0.96\n"
     ]
    }
   ],
   "source": [
    "print(np.average(s_reg), np.average(s_rf), np.average(s_svc), np.average(s_dt))"
   ]
  },
  {
   "cell_type": "markdown",
   "id": "f8526102",
   "metadata": {},
   "source": [
    "### cross_val_score function to tune hyperparameters"
   ]
  },
  {
   "cell_type": "code",
   "execution_count": 27,
   "id": "78931d20",
   "metadata": {},
   "outputs": [
    {
     "name": "stdout",
     "output_type": "stream",
     "text": [
      "0.9733333333333333 0.96\n"
     ]
    }
   ],
   "source": [
    "s1 = cross_val_score(SVC(gamma = 'auto'), iris.data, iris.target, cv = 3)\n",
    "s2 = cross_val_score(SVC(), iris.data, iris.target, cv = 3)\n",
    "print(np.average(s1), np.average(s2))"
   ]
  },
  {
   "cell_type": "code",
   "execution_count": null,
   "id": "7a53241e",
   "metadata": {},
   "outputs": [],
   "source": []
  }
 ],
 "metadata": {
  "kernelspec": {
   "display_name": "Python 3",
   "language": "python",
   "name": "python3"
  },
  "language_info": {
   "codemirror_mode": {
    "name": "ipython",
    "version": 3
   },
   "file_extension": ".py",
   "mimetype": "text/x-python",
   "name": "python",
   "nbconvert_exporter": "python",
   "pygments_lexer": "ipython3",
   "version": "3.8.8"
  }
 },
 "nbformat": 4,
 "nbformat_minor": 5
}
